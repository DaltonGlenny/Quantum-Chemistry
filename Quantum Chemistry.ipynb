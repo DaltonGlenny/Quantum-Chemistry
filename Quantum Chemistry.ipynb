{
 "cells": [
  {
   "cell_type": "markdown",
   "metadata": {},
   "source": [
    "# Molecular Orbital Theory\n",
    "#### Dalton Glenny, Courtland Priest, Abby Wilson"
   ]
  },
  {
   "cell_type": "markdown",
   "metadata": {},
   "source": [
    "### Determining Charge Densities and Bond Order by Huckel Theory"
   ]
  },
  {
   "cell_type": "markdown",
   "metadata": {},
   "source": [
    "Import necessary packages and functions"
   ]
  },
  {
   "cell_type": "code",
   "execution_count": 47,
   "metadata": {},
   "outputs": [],
   "source": [
    "import numpy as np\n",
    "import numpy.linalg as linalg\n",
    "from numpy import matrix\n",
    "import matplotlib.pyplot as plt\n",
    "import scipy.sparse.linalg as sparseAlg\n",
    "import ase\n",
    "from ase import neighborlist\n",
    "from ase.utils import natural_cutoffs\n",
    "from scipy import sparse\n",
    "from scipy.sparse import csr_matrix\n",
    "from scipy.sparse import identity\n",
    "from ase.build import molecule\n",
    "from ase.build import graphene_nanoribbon"
   ]
  },
  {
   "cell_type": "code",
   "execution_count": 2,
   "metadata": {},
   "outputs": [],
   "source": [
    "# gnr = graphene_nanoribbon(4,3,'zigzag', saturated=False) \"\"\"To produce a graphene nanoribbon 4 unit cells wide and 3 long\"\"\"\n",
    "c60 = molecule('C60')\n",
    "numC = 60 #number of carbon atoms in the molecule\n",
    "\n",
    "cutOff = natural_cutoffs(c60)\n",
    "neighborList = neighborlist.NeighborList(cutOff, self_interaction=False, bothways=True)\n",
    "neighborList.update(c60)\n",
    "T = neighborList.get_connectivity_matrix()\n",
    "\n",
    "#matrix = csr_matrix.todense(matrix) \"\"\"Not needed when getSparseHamil is used\"\"\""
   ]
  },
  {
   "cell_type": "markdown",
   "metadata": {},
   "source": [
    "Converts topological (connectivity) matrix to sparse Hamiltonian matrix without densifying it"
   ]
  },
  {
   "cell_type": "code",
   "execution_count": 3,
   "metadata": {},
   "outputs": [],
   "source": [
    "def getSparseHamil(a, b, T):\n",
    "    I = identity(numC)\n",
    "    H = a*I + b*T\n",
    "    return H"
   ]
  },
  {
   "cell_type": "markdown",
   "metadata": {},
   "source": [
    "Convert a dense topological matrix to a Hamiltonian matrix"
   ]
  },
  {
   "cell_type": "code",
   "execution_count": 4,
   "metadata": {},
   "outputs": [],
   "source": [
    "def getHamil(a, b, T):\n",
    "    I = np.identity(len(T))\n",
    "    H = np.zeros((len(T), len(T)))\n",
    "\n",
    "    for i in range(len(T)):\n",
    "        for j in range(len(T)):\n",
    "            H[i][j] = a*I[i][j] + b*T[i][j]\n",
    "\n",
    "    return H"
   ]
  },
  {
   "cell_type": "markdown",
   "metadata": {},
   "source": [
    "Get eigenvalues and eigenvectors from a Hamiltonian matrix"
   ]
  },
  {
   "cell_type": "code",
   "execution_count": 5,
   "metadata": {},
   "outputs": [],
   "source": [
    "#Returns eigen values\n",
    "def getEnergyLevels(H):\n",
    "    vals, vecs, = linalg.eig(H)\n",
    "    return vals\n",
    "\n",
    "#Returns eigen vectors\n",
    "def getEignVecs(H):\n",
    "    vals, vecs, = linalg.eig(H)\n",
    "\n",
    "    #Use the following only if using getHamil (the non-sparse version)\n",
    "    #switch the eigen vector matrix so that the rows are vectors\n",
    "    #vecs_adj = []\n",
    "    #for i in range(len(vecs)):\n",
    "    #    orbital = []\n",
    "    #    for j in range(len(vecs)):\n",
    "    #        orbital.append(vecs[j][i])\n",
    "    #    vecs_adj.append(orbital)\n",
    "\n",
    "    return vecs #or vecs_adj"
   ]
  },
  {
   "cell_type": "code",
   "execution_count": 6,
   "metadata": {},
   "outputs": [],
   "source": [
    "#Creates a matrix of form [[value, vector]...]\n",
    "#this pairs the vectors and values so that we can sort the values but keep track of the corresponding vectors\n",
    "def sortEigen(H):\n",
    "\n",
    "    vals = getEnergyLevels(H)\n",
    "    vecs = getEignVecs(H)\n",
    "\n",
    "    eigenSorted = []\n",
    "    for i in range(len(vals)):\n",
    "        eigenSorted.append([vals[i], vecs[i]])\n",
    "\n",
    "    eigenSorted.sort()\n",
    "    return eigenSorted"
   ]
  },
  {
   "cell_type": "code",
   "execution_count": 49,
   "metadata": {},
   "outputs": [],
   "source": [
    "#Returns a sorted list of form [[value, vector],...]\n",
    "#For sparse hamiltonian\n",
    "def getEignVecsSp(H, numCarbon):\n",
    "    vals, vecs, = sparseAlg.eigs(H, k=(numCarbon-2)) #k must be < N-1\n",
    "\n",
    "    #switch the eigen vector matrix so that the rows are vectors\n",
    "    vecs_adj = []\n",
    "    for i in range(len(vecs[0])):\n",
    "        eigVec = []\n",
    "        for j in range(len(vecs)):\n",
    "            eigVec.append(vecs[j][i].real)\n",
    "\n",
    "        vecs_adj.append(eigVec)\n",
    "\n",
    "    eigSorted = []\n",
    "    for i in range(len(vals)):\n",
    "        eigSorted.append([vals[i].real, vecs_adj[i]])\n",
    "\n",
    "    eigSorted.sort()\n",
    "    return eigSorted"
   ]
  },
  {
   "cell_type": "markdown",
   "metadata": {},
   "source": [
    "Graph the eigenvectors"
   ]
  },
  {
   "cell_type": "code",
   "execution_count": 8,
   "metadata": {},
   "outputs": [],
   "source": [
    "def pltEigen(eigenSorted, molecule_name): #takes in a list of the form returned by sortEigen()\n",
    "    x = [i for i in range(len(eigenSorted))]\n",
    "\n",
    "    values = [eigenSorted[i][0] for i in range(len(eigenSorted))]\n",
    "    vectors = [eigenSorted[i][1] for i in range(len(eigenSorted))]\n",
    "\n",
    "    for i in range(len(values)):\n",
    "            values[i] = round(values[i], 3) #round energy values\n",
    "\n",
    "    n = int(len(values)/2)\n",
    "    if (len(values) % 2 != 0):\n",
    "        n += 1\n",
    "\n",
    "    fig, ax = plt.subplots(nrows=n, ncols=2)\n",
    "    for i, row in enumerate(ax):\n",
    "        for j, col in enumerate(row):\n",
    "            if (i+2*j < len(values)):\n",
    "                print(x, vectors[i+2*j])\n",
    "                col.scatter(x, vectors[i+2*j], label=\"E={}\".format(values[i+2*j]))\n",
    "                col.legend(loc=\"right\")\n",
    "\n",
    "    fig.suptitle(\"Eigenvectors of {}\".format(molecule_name))\n",
    "    plt.show"
   ]
  },
  {
   "cell_type": "markdown",
   "metadata": {},
   "source": [
    "Find number of nodes in eigenvector"
   ]
  },
  {
   "cell_type": "code",
   "execution_count": 9,
   "metadata": {},
   "outputs": [],
   "source": [
    "def getNodes(vec):\n",
    "    nodes = 0\n",
    "    pos = vec[0] > 0\n",
    "    for i in (1, len(vec)):\n",
    "        if ((vec[i] > 0) != pos):\n",
    "            nodes +=1\n",
    "            pos = !pos\n",
    "\n",
    "    return nodes"
   ]
  },
  {
   "cell_type": "markdown",
   "metadata": {},
   "source": [
    "Create an energy level diagram. Returns a list in the format [[energy level, occupied?. occupied?], [energy,...]...] where an occupied state is represented by a 1 and an unocupied state is represented by a zero"
   ]
  },
  {
   "cell_type": "code",
   "execution_count": 10,
   "metadata": {},
   "outputs": [],
   "source": [
    "def energyLevelDiagram(enLevels, numCarbon):\n",
    "    diagram = np.zeros((len(enLevels), 3))\n",
    "    for i in range(len(enLevels)):\n",
    "        diagram[i][0] = enLevels[i][0]\n",
    "\n",
    "    for i in range(numCarbon):\n",
    "        if (i%2 == 0):\n",
    "            diagram[int(i/2)][1] = 1\n",
    "        else:\n",
    "            diagram[int(i/2)][2] = 1\n",
    "\n",
    "    return diagram"
   ]
  },
  {
   "cell_type": "markdown",
   "metadata": {},
   "source": [
    "Calculate the energy of a bond in Ethelene to be used to calculate the delocalization energy"
   ]
  },
  {
   "cell_type": "code",
   "execution_count": 11,
   "metadata": {},
   "outputs": [
    {
     "name": "stdout",
     "output_type": "stream",
     "text": [
      "[ 0. -2.]\n"
     ]
    }
   ],
   "source": [
    "eth=[[0,1],\n",
    " [1,0]]\n",
    "\n",
    "eth_H = getHamil(-1,-1,eth)\n",
    "\n",
    "eth_values=getEnergyLevels(eth_H)\n",
    "print(eth_values)\n",
    "eth_energy = eth_values[1]"
   ]
  },
  {
   "cell_type": "markdown",
   "metadata": {},
   "source": [
    "Calculate the delocalization energy"
   ]
  },
  {
   "cell_type": "code",
   "execution_count": 12,
   "metadata": {},
   "outputs": [],
   "source": [
    "def delocEnergy(enLevelDiag):\n",
    "\n",
    "    sum = 0\n",
    "    numOrbitals = 0\n",
    "    for j in range(len(enLevelDiag)):\n",
    "        occupancy = enLevelDiag[j][1] + enLevelDiag[j][2]\n",
    "        sum += enLevelDiag[j][0] * occupancy\n",
    "        if (occupancy > 0):\n",
    "            numOrbitals += 1\n",
    "\n",
    "    dEnergy = sum - eth_energy*2*numOrbitals # compare to Eth molecule with numOrbital # of bonds with occupation of 2\n",
    "    return dEnergy"
   ]
  },
  {
   "cell_type": "code",
   "execution_count": 13,
   "metadata": {},
   "outputs": [],
   "source": [
    "# Calculates the charge density\n",
    "def chargeDensity(enLevelDiagram, eigenSorted):\n",
    "\n",
    "    chargeDensity = np.zeros(len(eigenSorted))\n",
    "    for i in range(len(chargeDensity)): #for each atom\n",
    "        for j, orbital in enumerate(eigenSorted):\n",
    "            occupancy = enLevelDiagram[j][1] + enLevelDiagram[j][2] #calculate occupancy of this orbital\n",
    "            chargeDensity[i] += occupancy * orbital[1][i]**2\n",
    "\n",
    "    return chargeDensity"
   ]
  },
  {
   "cell_type": "code",
   "execution_count": 14,
   "metadata": {},
   "outputs": [],
   "source": [
    "#enLevelDiagram: enegy level diagram\n",
    "#eigenSorted: sorted list of eigen values and vectors\n",
    "#bonds: list of bonds\n",
    "def bondOrder(enLevelDiagram, eigenSorted, bonds):\n",
    "\n",
    "    bondO = np.ones(len(bonds))\n",
    "    for i, bond in enumerate(bonds):\n",
    "\n",
    "        for j, orbital in enumerate(eigenSorted):\n",
    "            occupancy = enLevelDiagram[j][1] + enLevelDiagram[j][2]\n",
    "            bondO[i] += occupancy * orbital[1][bond[0]] * orbital[1][bond[1]]\n",
    "\n",
    "    return bondO"
   ]
  },
  {
   "cell_type": "markdown",
   "metadata": {},
   "source": [
    "\n",
    "### Butadiene"
   ]
  },
  {
   "cell_type": "code",
   "execution_count": 15,
   "metadata": {},
   "outputs": [
    {
     "name": "stdout",
     "output_type": "stream",
     "text": [
      "[[-1. -1.  0.  0.]\n",
      " [-1. -1. -1.  0.]\n",
      " [ 0. -1. -1. -1.]\n",
      " [ 0.  0. -1. -1.]]\n",
      "\n",
      "Eigenvalues:  [-2.61803399 -1.61803399  0.61803399 -0.38196601]\n",
      "\n",
      "Eigenvectors:  [[ 0.37174803 -0.60150096 -0.37174803  0.60150096]\n",
      " [ 0.60150096 -0.37174803  0.60150096 -0.37174803]\n",
      " [ 0.60150096  0.37174803 -0.60150096 -0.37174803]\n",
      " [ 0.37174803  0.60150096  0.37174803  0.60150096]]\n",
      "\n",
      " [[-2.6180339887498922, array([ 0.37174803, -0.60150096, -0.37174803,  0.60150096])], [-1.6180339887498953, array([ 0.60150096, -0.37174803,  0.60150096, -0.37174803])], [-0.3819660112501051, array([0.37174803, 0.60150096, 0.37174803, 0.60150096])], [0.6180339887498943, array([ 0.60150096,  0.37174803, -0.60150096, -0.37174803])]]\n"
     ]
    }
   ],
   "source": [
    "buta = [[0,1,0,0],\n",
    "       [1,0,1,0],\n",
    "       [0,1,0,1],\n",
    "       [0,0,1,0]]\n",
    "\n",
    "buta_H = getHamil(-1, -1, buta)\n",
    "print(buta_H)\n",
    "\n",
    "values = getEnergyLevels(buta_H)\n",
    "vectors = getEignVecs(buta_H)\n",
    "butaEigen = sortEigen(buta_H)\n",
    "\n",
    "print(\"\\nEigenvalues: \", values)\n",
    "print(\"\\nEigenvectors: \", vectors)\n",
    "print(\"\\n\", butaEigen)"
   ]
  },
  {
   "cell_type": "code",
   "execution_count": 16,
   "metadata": {},
   "outputs": [
    {
     "name": "stdout",
     "output_type": "stream",
     "text": [
      "[0, 1, 2, 3] [ 0.37174803 -0.60150096 -0.37174803  0.60150096]\n",
      "[0, 1, 2, 3] [0.37174803 0.60150096 0.37174803 0.60150096]\n",
      "[0, 1, 2, 3] [ 0.60150096 -0.37174803  0.60150096 -0.37174803]\n",
      "[0, 1, 2, 3] [ 0.60150096  0.37174803 -0.60150096 -0.37174803]\n"
     ]
    },
    {
     "data": {
      "image/png": "[encoded data removed]",
      "text/plain": [
       "<Figure size 432x288 with 4 Axes>"
      ]
     },
     "metadata": {},
     "output_type": "display_data"
    }
   ],
   "source": [
    "pltEigen(butaEigen, 'Butadiene')"
   ]
  },
  {
   "cell_type": "code",
   "execution_count": 17,
   "metadata": {},
   "outputs": [
    {
     "name": "stdout",
     "output_type": "stream",
     "text": [
      "atoms {0, 1, 2, 3}\n",
      "Topo \n",
      " [[0. 1. 0. 0.]\n",
      " [1. 0. 1. 0.]\n",
      " [0. 1. 0. 1.]\n",
      " [0. 0. 1. 0.]]\n"
     ]
    }
   ],
   "source": [
    "buta_graph = [[0,1],[1,2],[2,3]] #graph of bonds\n",
    "\n",
    "atoms = {0} #this is a set, so it cant contain duplicate elements\n",
    "for bond in buta_graph:\n",
    "    atoms.add(bond[0])\n",
    "    atoms.add(bond[1])\n",
    "\n",
    "print(\"atoms\", atoms)\n",
    "n = len(atoms)\n",
    "\n",
    "T = np.zeros((n, n))\n",
    "for bond in buta_graph:\n",
    "    T[bond[0]][bond[1]] = 1 #this bond exists, so mark it on the Topo\n",
    "    T[bond[1]][bond[0]] = 1 #this bond exists, so mark it on the Topo\n",
    "\n",
    "print(\"Topo \\n\", T)"
   ]
  },
  {
   "cell_type": "code",
   "execution_count": 18,
   "metadata": {},
   "outputs": [
    {
     "name": "stdout",
     "output_type": "stream",
     "text": [
      "[[-2.61803399  1.          1.        ]\n",
      " [-1.61803399  1.          1.        ]\n",
      " [-0.38196601  0.          0.        ]\n",
      " [ 0.61803399  0.          0.        ]]\n"
     ]
    }
   ],
   "source": [
    "diagram = energyLevelDiagram(butaEigen, 4)\n",
    "print(diagram)"
   ]
  },
  {
   "cell_type": "code",
   "execution_count": 19,
   "metadata": {},
   "outputs": [
    {
     "name": "stdout",
     "output_type": "stream",
     "text": [
      "-0.47213595499957606\n"
     ]
    }
   ],
   "source": [
    "dE = delocEnergy(diagram)\n",
    "print(dE)"
   ]
  },
  {
   "cell_type": "code",
   "execution_count": 20,
   "metadata": {},
   "outputs": [
    {
     "name": "stdout",
     "output_type": "stream",
     "text": [
      "[1. 1. 1. 1.]\n"
     ]
    }
   ],
   "source": [
    "chargeDen = chargeDensity(diagram, butaEigen)\n",
    "print(chargeDen)"
   ]
  },
  {
   "cell_type": "code",
   "execution_count": 21,
   "metadata": {
    "scrolled": true
   },
   "outputs": [
    {
     "data": {
      "text/plain": [
       "array([0.10557281, 1.        , 0.10557281])"
      ]
     },
     "execution_count": 21,
     "metadata": {},
     "output_type": "execute_result"
    }
   ],
   "source": [
    "bondOrder(diagram, butaEigen, [[0,1],[1,2],[2,3]])"
   ]
  },
  {
   "cell_type": "markdown",
   "metadata": {},
   "source": [
    "### Benzene"
   ]
  },
  {
   "cell_type": "code",
   "execution_count": 22,
   "metadata": {},
   "outputs": [
    {
     "name": "stdout",
     "output_type": "stream",
     "text": [
      "[-2.9999999999999996, array([-0.40824829, -0.28867513,  0.40824829, -0.28867513, -0.42988269,\n",
      "       -0.10665483])]\n",
      "[-2.0, array([ 0.40824829,  0.57735027,  0.40824829, -0.57735027,  0.11882601,\n",
      "       -0.43806709])]\n",
      "[-1.9999999999999991, array([-0.40824829, -0.28867513,  0.40824829, -0.28867513,  0.54870871,\n",
      "        0.54472192])]\n",
      "[5.551115123125783e-17, array([ 0.40824829, -0.28867513,  0.40824829,  0.28867513,  0.42988269,\n",
      "       -0.10665483])]\n",
      "[1.0581813203458523e-16, array([ 0.40824829, -0.28867513,  0.40824829,  0.28867513, -0.54870871,\n",
      "        0.54472192])]\n",
      "[0.999999999999999, array([-0.40824829,  0.57735027,  0.40824829,  0.57735027, -0.11882601,\n",
      "       -0.43806709])]\n"
     ]
    }
   ],
   "source": [
    "benzT = [[0,1,0,0,0,1],\n",
    "         [1,0,1,0,0,0],\n",
    "         [0,1,0,1,0,0],\n",
    "         [0,0,1,0,1,0],\n",
    "         [0,0,0,1,0,1],\n",
    "         [1,0,0,0,1,0]]\n",
    "\n",
    "benzH = getHamil(-1,-1,benzT)\n",
    "benzEigen = sortEigen(benzH)\n",
    "\n",
    "print(*benzEigen, sep=\"\\n\")"
   ]
  },
  {
   "cell_type": "code",
   "execution_count": 23,
   "metadata": {},
   "outputs": [
    {
     "name": "stdout",
     "output_type": "stream",
     "text": [
      "[0, 1, 2, 3, 4, 5] [-0.40824829 -0.28867513  0.40824829 -0.28867513 -0.42988269 -0.10665483]\n",
      "[0, 1, 2, 3, 4, 5] [-0.40824829 -0.28867513  0.40824829 -0.28867513  0.54870871  0.54472192]\n",
      "[0, 1, 2, 3, 4, 5] [ 0.40824829  0.57735027  0.40824829 -0.57735027  0.11882601 -0.43806709]\n",
      "[0, 1, 2, 3, 4, 5] [ 0.40824829 -0.28867513  0.40824829  0.28867513  0.42988269 -0.10665483]\n",
      "[0, 1, 2, 3, 4, 5] [-0.40824829 -0.28867513  0.40824829 -0.28867513  0.54870871  0.54472192]\n",
      "[0, 1, 2, 3, 4, 5] [ 0.40824829 -0.28867513  0.40824829  0.28867513 -0.54870871  0.54472192]\n"
     ]
    },
    {
     "data": {
      "image/png": "[encoded data removed]",
      "text/plain": [
       "<Figure size 432x288 with 6 Axes>"
      ]
     },
     "metadata": {},
     "output_type": "display_data"
    }
   ],
   "source": [
    "pltEigen(benzEigen, 'Benzene')"
   ]
  },
  {
   "cell_type": "code",
   "execution_count": 24,
   "metadata": {},
   "outputs": [
    {
     "name": "stdout",
     "output_type": "stream",
     "text": [
      "[[-3.00000000e+00  1.00000000e+00  1.00000000e+00]\n",
      " [-2.00000000e+00  1.00000000e+00  1.00000000e+00]\n",
      " [-2.00000000e+00  1.00000000e+00  1.00000000e+00]\n",
      " [ 5.55111512e-17  0.00000000e+00  0.00000000e+00]\n",
      " [ 1.05818132e-16  0.00000000e+00  0.00000000e+00]\n",
      " [ 1.00000000e+00  0.00000000e+00  0.00000000e+00]]\n"
     ]
    }
   ],
   "source": [
    "benz_diagram = energyLevelDiagram(benzEigen, 6)\n",
    "print(benz_diagram)"
   ]
  },
  {
   "cell_type": "code",
   "execution_count": 25,
   "metadata": {},
   "outputs": [
    {
     "name": "stdout",
     "output_type": "stream",
     "text": [
      "-1.9999999999999982\n"
     ]
    }
   ],
   "source": [
    "benz_dE = delocEnergy(benz_diagram)\n",
    "print(benz_dE)"
   ]
  },
  {
   "cell_type": "code",
   "execution_count": 26,
   "metadata": {},
   "outputs": [
    {
     "name": "stdout",
     "output_type": "stream",
     "text": [
      "[1. 1. 1. 1. 1. 1.]\n"
     ]
    }
   ],
   "source": [
    "benz_chargeDen = chargeDensity(benz_diagram, benzEigen)\n",
    "print(benz_chargeDen)"
   ]
  },
  {
   "cell_type": "code",
   "execution_count": 27,
   "metadata": {},
   "outputs": [
    {
     "data": {
      "text/plain": [
       "array([1.94280904, 1.        , 0.05719096, 0.79418731, 1.58537792,\n",
       "       0.28463943])"
      ]
     },
     "execution_count": 27,
     "metadata": {},
     "output_type": "execute_result"
    }
   ],
   "source": [
    "bondOrder(benz_diagram, benzEigen, [[0,1],[1,2],[2,3],[3,4],[4,5],[5,0]])"
   ]
  },
  {
   "cell_type": "markdown",
   "metadata": {
    "collapsed": true
   },
   "source": [
    "### Toluene"
   ]
  },
  {
   "cell_type": "code",
   "execution_count": 28,
   "metadata": {},
   "outputs": [
    {
     "name": "stdout",
     "output_type": "stream",
     "text": [
      "[-3.101002989615459, array([-0.40625996, -0.11629391, -0.5       ,  0.40625996,  0.37796447,\n",
      "       -0.5       ,  0.11629391])]\n",
      "[-2.2592801267497644, array([-3.53553391e-01,  3.53553391e-01, -5.00000000e-01, -3.53553391e-01,\n",
      "       -2.66145728e-16,  5.00000000e-01,  3.53553391e-01])]\n",
      "[-1.9999999999999993, array([-3.36556771e-01,  5.61516668e-01, -5.42009647e-15,  3.36556771e-01,\n",
      "       -3.77964473e-01, -4.64093044e-16, -5.61516668e-01])]\n",
      "[-0.9999999999999997, array([-0.40625996, -0.11629391,  0.5       ,  0.40625996,  0.37796447,\n",
      "        0.5       ,  0.11629391])]\n",
      "[5.190434613876248e-16, array([-5.00000000e-01, -5.00000000e-01,  5.16783201e-15, -5.00000000e-01,\n",
      "       -4.84193529e-17, -8.20397650e-16, -5.00000000e-01])]\n",
      "[0.2592801267497652, array([-2.37981575e-01, -3.97052244e-01,  4.32702338e-15,  2.37981575e-01,\n",
      "       -7.55928946e-01,  9.14429863e-16,  3.97052244e-01])]\n",
      "[1.1010029896154596, array([-3.53553391e-01,  3.53553391e-01,  5.00000000e-01, -3.53553391e-01,\n",
      "        1.37948717e-16, -5.00000000e-01,  3.53553391e-01])]\n"
     ]
    }
   ],
   "source": [
    "tolT = [[0,1,0,0,0,1,0],\n",
    "         [1,0,1,0,0,0,0],\n",
    "         [0,1,0,1,0,0,0],\n",
    "         [0,0,1,0,1,0,0],\n",
    "         [0,0,0,1,0,1,0],\n",
    "         [1,0,0,0,1,0,1],\n",
    "         [0,0,0,0,0,1,0]]\n",
    "\n",
    "tolH = getHamil(-1,-1,tolT)\n",
    "tolEigen = sortEigen(tolH)\n",
    "\n",
    "print(*tolEigen, sep=\"\\n\")"
   ]
  },
  {
   "cell_type": "code",
   "execution_count": 29,
   "metadata": {
    "scrolled": true
   },
   "outputs": [
    {
     "name": "stdout",
     "output_type": "stream",
     "text": [
      "[[-3.10100299e+00  1.00000000e+00  1.00000000e+00]\n",
      " [-2.25928013e+00  1.00000000e+00  1.00000000e+00]\n",
      " [-2.00000000e+00  1.00000000e+00  1.00000000e+00]\n",
      " [-1.00000000e+00  1.00000000e+00  0.00000000e+00]\n",
      " [ 5.19043461e-16  0.00000000e+00  0.00000000e+00]\n",
      " [ 2.59280127e-01  0.00000000e+00  0.00000000e+00]\n",
      " [ 1.10100299e+00  0.00000000e+00  0.00000000e+00]]\n"
     ]
    }
   ],
   "source": [
    "tol_diagram = energyLevelDiagram(tolEigen, 7)\n",
    "print(tol_diagram)"
   ]
  },
  {
   "cell_type": "code",
   "execution_count": 30,
   "metadata": {},
   "outputs": [
    {
     "name": "stdout",
     "output_type": "stream",
     "text": [
      "0.2794337672695537\n"
     ]
    }
   ],
   "source": [
    "tol_dE = delocEnergy(tol_diagram)\n",
    "print(tol_dE)"
   ]
  },
  {
   "cell_type": "code",
   "execution_count": 31,
   "metadata": {},
   "outputs": [
    {
     "name": "stdout",
     "output_type": "stream",
     "text": [
      "[0.97168239 0.92117476 1.25       0.97168239 0.71428571 1.25\n",
      " 0.92117476]\n"
     ]
    }
   ],
   "source": [
    "tol_chargeDen = chargeDensity(tol_diagram, tolEigen)\n",
    "print(tol_chargeDen)"
   ]
  },
  {
   "cell_type": "code",
   "execution_count": 32,
   "metadata": {},
   "outputs": [
    {
     "name": "stdout",
     "output_type": "stream",
     "text": [
      "[0, 1, 2, 3, 4, 5, 6] [-0.40625996 -0.11629391 -0.5         0.40625996  0.37796447 -0.5\n",
      "  0.11629391]\n",
      "[0, 1, 2, 3, 4, 5, 6] [-3.36556771e-01  5.61516668e-01 -5.42009647e-15  3.36556771e-01\n",
      " -3.77964473e-01 -4.64093044e-16 -5.61516668e-01]\n",
      "[0, 1, 2, 3, 4, 5, 6] [-3.53553391e-01  3.53553391e-01 -5.00000000e-01 -3.53553391e-01\n",
      " -2.66145728e-16  5.00000000e-01  3.53553391e-01]\n",
      "[0, 1, 2, 3, 4, 5, 6] [-0.40625996 -0.11629391  0.5         0.40625996  0.37796447  0.5\n",
      "  0.11629391]\n",
      "[0, 1, 2, 3, 4, 5, 6] [-3.36556771e-01  5.61516668e-01 -5.42009647e-15  3.36556771e-01\n",
      " -3.77964473e-01 -4.64093044e-16 -5.61516668e-01]\n",
      "[0, 1, 2, 3, 4, 5, 6] [-5.00000000e-01 -5.00000000e-01  5.16783201e-15 -5.00000000e-01\n",
      " -4.84193529e-17 -8.20397650e-16 -5.00000000e-01]\n",
      "[0, 1, 2, 3, 4, 5, 6] [-0.40625996 -0.11629391  0.5         0.40625996  0.37796447  0.5\n",
      "  0.11629391]\n",
      "[0, 1, 2, 3, 4, 5, 6] [-2.37981575e-01 -3.97052244e-01  4.32702338e-15  2.37981575e-01\n",
      " -7.55928946e-01  9.14429863e-16  3.97052244e-01]\n"
     ]
    },
    {
     "data": {
      "image/png": "[encoded data removed]",
      "text/plain": [
       "<Figure size 432x288 with 8 Axes>"
      ]
     },
     "metadata": {},
     "output_type": "display_data"
    }
   ],
   "source": [
    "pltEigen(tolEigen, 'Toluene')"
   ]
  },
  {
   "cell_type": "code",
   "execution_count": 33,
   "metadata": {},
   "outputs": [
    {
     "data": {
      "text/plain": [
       "array([0.5137722 , 0.70459356, 1.15042341, 1.20624249, 0.81101776,\n",
       "       0.84957659, 1.29540644])"
      ]
     },
     "execution_count": 33,
     "metadata": {},
     "output_type": "execute_result"
    }
   ],
   "source": [
    "bondOrder(tol_diagram, tolEigen, [[0,1],[1,2],[2,3],[3,4],[4,5],[5,0],[5,6]])"
   ]
  },
  {
   "cell_type": "markdown",
   "metadata": {},
   "source": [
    "#### Naphthalene"
   ]
  },
  {
   "cell_type": "markdown",
   "metadata": {},
   "source": [
    "The ASE database does not contain data for naphthalene. Therefore, the Huckel matrix was built manually, and then the steps above were performed on it."
   ]
  },
  {
   "cell_type": "code",
   "execution_count": 34,
   "metadata": {},
   "outputs": [
    {
     "name": "stdout",
     "output_type": "stream",
     "text": [
      "[-3.3027756377319935, array([-0.23070093, -0.23070093, -0.4253254 , -0.17352352, -0.40824829,\n",
      "        0.26286556, -0.4253254 , -0.26286556,  0.40824829, -0.17352352])]\n",
      "[-2.618033988749893, array([-4.61401867e-01, -4.61401867e-01,  5.30248843e-16, -3.47047043e-01,\n",
      "        4.08248290e-01,  2.63031476e-16,  2.99361316e-16,  2.47254364e-16,\n",
      "       -4.08248290e-01, -3.47047043e-01])]\n",
      "[-2.3027756377319957, array([-4.61401867e-01,  4.61401867e-01,  1.67031125e-15,  3.47047043e-01,\n",
      "        4.08248290e-01,  4.05048982e-16,  6.36290736e-17, -1.09077602e-16,\n",
      "        4.08248290e-01, -3.47047043e-01])]\n",
      "[-2.000000000000001, array([-3.00551556e-01, -3.00551556e-01, -2.62865556e-01,  3.99585738e-01,\n",
      "       -7.27068190e-16, -4.25325404e-01, -2.62865556e-01,  4.25325404e-01,\n",
      "       -9.13119263e-17,  3.99585738e-01])]\n",
      "[-1.6180339887498938, array([-0.23070093,  0.23070093, -0.4253254 ,  0.17352352, -0.40824829,\n",
      "       -0.26286556,  0.4253254 , -0.26286556, -0.40824829, -0.17352352])]\n",
      "[-0.3819660112501049, array([-0.23070093, -0.23070093,  0.4253254 , -0.17352352, -0.40824829,\n",
      "       -0.26286556,  0.4253254 ,  0.26286556,  0.40824829, -0.17352352])]\n",
      "[1.444860921556346e-16, array([-0.23070093,  0.23070093,  0.4253254 ,  0.17352352, -0.40824829,\n",
      "        0.26286556, -0.4253254 ,  0.26286556, -0.40824829, -0.17352352])]\n",
      "[0.3027756377319948, array([-3.00551556e-01, -3.00551556e-01,  2.62865556e-01,  3.99585738e-01,\n",
      "       -2.30438390e-15,  4.25325404e-01,  2.62865556e-01, -4.25325404e-01,\n",
      "        3.76322978e-16,  3.99585738e-01])]\n",
      "[0.6180339887498951, array([-3.00551556e-01,  3.00551556e-01,  2.62865556e-01, -3.99585738e-01,\n",
      "        1.25229785e-15, -4.25325404e-01, -2.62865556e-01, -4.25325404e-01,\n",
      "        1.39528563e-16,  3.99585738e-01])]\n",
      "[1.302775637731994, array([-3.00551556e-01,  3.00551556e-01, -2.62865556e-01, -3.99585738e-01,\n",
      "        1.99694555e-15,  4.25325404e-01,  2.62865556e-01,  4.25325404e-01,\n",
      "        1.20483967e-16,  3.99585738e-01])]\n"
     ]
    }
   ],
   "source": [
    "naph = [[0, 1,0, 0, 0, 1, 0, 0, 0, 0],[1, 0, 1, 0, 0, 0, 0, 0, 0, 0],[0, 1, 0, 1, 0, 0, 1, 0, 0, 0],[0,0, 1, 0, 1, 0, 0, 0, 0, 1],[0, 0, 0, 1, 0, 1, 0, 0, 0, 0,],\n",
    "          [1, 0, 0, 0, 1, 0, 0, 0, 0, 0],[0, 0, 1, 0, 0, 0, 0, 1, 0, 0],[0, 0, 0, 0, 0, 0, 1, 0, 1, 0],[0, 0, 0, 0, 0, 0, 0, 1, 0, 1],[0, 0, 0, 1, 0, 0, 0, 0, 1, 0]]\n",
    "\n",
    "naph_H = getHamil(-1,-1, naph)\n",
    "naphEigen = sortEigen(naph_H)\n",
    "\n",
    "print(*naphEigen, sep=\"\\n\")"
   ]
  },
  {
   "cell_type": "code",
   "execution_count": 35,
   "metadata": {},
   "outputs": [
    {
     "name": "stdout",
     "output_type": "stream",
     "text": [
      "[[-3.30277564e+00  1.00000000e+00  1.00000000e+00]\n",
      " [-2.61803399e+00  1.00000000e+00  1.00000000e+00]\n",
      " [-2.30277564e+00  1.00000000e+00  1.00000000e+00]\n",
      " [-2.00000000e+00  1.00000000e+00  1.00000000e+00]\n",
      " [-1.61803399e+00  1.00000000e+00  1.00000000e+00]\n",
      " [-3.81966011e-01  0.00000000e+00  0.00000000e+00]\n",
      " [ 1.44486092e-16  0.00000000e+00  0.00000000e+00]\n",
      " [ 3.02775638e-01  0.00000000e+00  0.00000000e+00]\n",
      " [ 6.18033989e-01  0.00000000e+00  0.00000000e+00]\n",
      " [ 1.30277564e+00  0.00000000e+00  0.00000000e+00]]\n"
     ]
    }
   ],
   "source": [
    "naph_diagram = energyLevelDiagram(naphEigen, 10)\n",
    "print(naph_diagram)"
   ]
  },
  {
   "cell_type": "code",
   "execution_count": 36,
   "metadata": {},
   "outputs": [
    {
     "name": "stdout",
     "output_type": "stream",
     "text": [
      "-3.683238505927555\n"
     ]
    }
   ],
   "source": [
    "naph_dE = delocEnergy(naph_diagram)\n",
    "print(naph_dE)"
   ]
  },
  {
   "cell_type": "code",
   "execution_count": 37,
   "metadata": {},
   "outputs": [
    {
     "name": "stdout",
     "output_type": "stream",
     "text": [
      "[1.24512089 1.24512089 0.8618034  0.92154578 1.33333333 0.6381966\n",
      " 0.8618034  0.6381966  1.33333333 0.92154578]\n"
     ]
    }
   ],
   "source": [
    "naph_chargeDen = chargeDensity(naph_diagram, naphEigen)\n",
    "print(naph_chargeDen)"
   ]
  },
  {
   "cell_type": "code",
   "execution_count": 38,
   "metadata": {},
   "outputs": [
    {
     "name": "stdout",
     "output_type": "stream",
     "text": [
      "[0, 1, 2, 3, 4, 5, 6, 7, 8, 9] [-0.23070093 -0.23070093 -0.4253254  -0.17352352 -0.40824829  0.26286556\n",
      " -0.4253254  -0.26286556  0.40824829 -0.17352352]\n",
      "[0, 1, 2, 3, 4, 5, 6, 7, 8, 9] [-4.61401867e-01  4.61401867e-01  1.67031125e-15  3.47047043e-01\n",
      "  4.08248290e-01  4.05048982e-16  6.36290736e-17 -1.09077602e-16\n",
      "  4.08248290e-01 -3.47047043e-01]\n",
      "[0, 1, 2, 3, 4, 5, 6, 7, 8, 9] [-4.61401867e-01 -4.61401867e-01  5.30248843e-16 -3.47047043e-01\n",
      "  4.08248290e-01  2.63031476e-16  2.99361316e-16  2.47254364e-16\n",
      " -4.08248290e-01 -3.47047043e-01]\n",
      "[0, 1, 2, 3, 4, 5, 6, 7, 8, 9] [-3.00551556e-01 -3.00551556e-01 -2.62865556e-01  3.99585738e-01\n",
      " -7.27068190e-16 -4.25325404e-01 -2.62865556e-01  4.25325404e-01\n",
      " -9.13119263e-17  3.99585738e-01]\n",
      "[0, 1, 2, 3, 4, 5, 6, 7, 8, 9] [-4.61401867e-01  4.61401867e-01  1.67031125e-15  3.47047043e-01\n",
      "  4.08248290e-01  4.05048982e-16  6.36290736e-17 -1.09077602e-16\n",
      "  4.08248290e-01 -3.47047043e-01]\n",
      "[0, 1, 2, 3, 4, 5, 6, 7, 8, 9] [-0.23070093  0.23070093 -0.4253254   0.17352352 -0.40824829 -0.26286556\n",
      "  0.4253254  -0.26286556 -0.40824829 -0.17352352]\n",
      "[0, 1, 2, 3, 4, 5, 6, 7, 8, 9] [-3.00551556e-01 -3.00551556e-01 -2.62865556e-01  3.99585738e-01\n",
      " -7.27068190e-16 -4.25325404e-01 -2.62865556e-01  4.25325404e-01\n",
      " -9.13119263e-17  3.99585738e-01]\n",
      "[0, 1, 2, 3, 4, 5, 6, 7, 8, 9] [-0.23070093 -0.23070093  0.4253254  -0.17352352 -0.40824829 -0.26286556\n",
      "  0.4253254   0.26286556  0.40824829 -0.17352352]\n",
      "[0, 1, 2, 3, 4, 5, 6, 7, 8, 9] [-0.23070093  0.23070093 -0.4253254   0.17352352 -0.40824829 -0.26286556\n",
      "  0.4253254  -0.26286556 -0.40824829 -0.17352352]\n",
      "[0, 1, 2, 3, 4, 5, 6, 7, 8, 9] [-0.23070093  0.23070093  0.4253254   0.17352352 -0.40824829  0.26286556\n",
      " -0.4253254   0.26286556 -0.40824829 -0.17352352]\n"
     ]
    },
    {
     "data": {
      "image/png": "[encoded data removed]",
      "text/plain": [
       "<Figure size 432x288 with 10 Axes>"
      ]
     },
     "metadata": {},
     "output_type": "display_data"
    }
   ],
   "source": [
    "pltEigen(naphEigen, 'Naphthalene')"
   ]
  },
  {
   "cell_type": "code",
   "execution_count": 39,
   "metadata": {},
   "outputs": [
    {
     "data": {
      "text/plain": [
       "array([1.18066248, 1.1580093 , 0.78992535, 1.        , 1.        ,\n",
       "       1.25566442, 0.7763932 , 0.7763932 , 1.        , 1.        ])"
      ]
     },
     "execution_count": 39,
     "metadata": {},
     "output_type": "execute_result"
    }
   ],
   "source": [
    "bondOrder(naph_diagram, naphEigen, [[0,1],[1,2],[2,3],[3,4],[4,5],[5,0],[5,6],[6,7],[7,8],[8,9]])"
   ]
  },
  {
   "cell_type": "markdown",
   "metadata": {},
   "source": [
    "### Carbon 60"
   ]
  },
  {
   "cell_type": "code",
   "execution_count": 50,
   "metadata": {},
   "outputs": [],
   "source": [
    "# gnr = graphene_nanoribbon(4,3,'zigzag', saturated=False) \"\"\"To produce a graphene nanoribbon 4 unit cells wide and 3 long\"\"\"\n",
    "c60 = molecule('C60')\n",
    "numC = 60 #number of carbon atoms in the molecule\n",
    "\n",
    "cutOff = natural_cutoffs(c60)\n",
    "neighborList = neighborlist.NeighborList(cutOff, self_interaction=False, bothways=True)\n",
    "neighborList.update(c60)\n",
    "T = neighborList.get_connectivity_matrix()\n",
    "\n",
    "H_c60 = getSparseHamil(-1,-1,T)\n",
    "\n",
    "c60_eigs = getEignVecsSp(H_c60, 60)\n",
    "\n",
    "#matrix = csr_matrix.todense(matrix) \"\"\"Not needed when getSparseHamil is used\"\"\""
   ]
  },
  {
   "cell_type": "code",
   "execution_count": 51,
   "metadata": {},
   "outputs": [
    {
     "name": "stdout",
     "output_type": "stream",
     "text": [
      "[[-4.          1.          1.        ]\n",
      " [-3.75659825  1.          1.        ]\n",
      " [-3.75659825  1.          1.        ]\n",
      " [-3.75659825  1.          1.        ]\n",
      " [-3.30277564  1.          1.        ]\n",
      " [-3.30277564  1.          1.        ]\n",
      " [-3.30277564  1.          1.        ]\n",
      " [-3.30277564  1.          1.        ]\n",
      " [-3.30277564  1.          1.        ]\n",
      " [-2.82024925  1.          1.        ]\n",
      " [-2.82024925  1.          1.        ]\n",
      " [-2.82024925  1.          1.        ]\n",
      " [-2.56155281  1.          1.        ]\n",
      " [-2.56155281  1.          1.        ]\n",
      " [-2.56155281  1.          1.        ]\n",
      " [-2.56155281  1.          1.        ]\n",
      " [-2.          1.          1.        ]\n",
      " [-2.          1.          1.        ]\n",
      " [-2.          1.          1.        ]\n",
      " [-2.          1.          1.        ]\n",
      " [-2.          1.          1.        ]\n",
      " [-2.          1.          1.        ]\n",
      " [-2.          1.          1.        ]\n",
      " [-2.          1.          1.        ]\n",
      " [-2.          1.          1.        ]\n",
      " [-1.61803399  1.          1.        ]\n",
      " [-1.61803399  1.          1.        ]\n",
      " [-1.61803399  1.          1.        ]\n",
      " [-1.61803399  1.          1.        ]\n",
      " [-1.61803399  1.          1.        ]\n",
      " [-0.86143573  0.          0.        ]\n",
      " [-0.86143573  0.          0.        ]\n",
      " [-0.86143573  0.          0.        ]\n",
      " [-0.61803399  0.          0.        ]\n",
      " [-0.61803399  0.          0.        ]\n",
      " [-0.61803399  0.          0.        ]\n",
      " [ 0.30277564  0.          0.        ]\n",
      " [ 0.30277564  0.          0.        ]\n",
      " [ 0.30277564  0.          0.        ]\n",
      " [ 0.43828324  0.          0.        ]\n",
      " [ 0.43828324  0.          0.        ]\n",
      " [ 0.43828324  0.          0.        ]\n",
      " [ 0.61803399  0.          0.        ]\n",
      " [ 0.61803399  0.          0.        ]\n",
      " [ 0.61803399  0.          0.        ]\n",
      " [ 0.61803399  0.          0.        ]\n",
      " [ 0.61803399  0.          0.        ]\n",
      " [ 1.          0.          0.        ]\n",
      " [ 1.          0.          0.        ]\n",
      " [ 1.          0.          0.        ]\n",
      " [ 1.          0.          0.        ]\n",
      " [ 1.56155281  0.          0.        ]\n",
      " [ 1.56155281  0.          0.        ]\n",
      " [ 1.56155281  0.          0.        ]\n",
      " [ 1.56155281  0.          0.        ]\n",
      " [ 1.61803399  0.          0.        ]\n",
      " [ 1.61803399  0.          0.        ]\n",
      " [ 1.61803399  0.          0.        ]]\n"
     ]
    }
   ],
   "source": [
    "c60_diagram = energyLevelDiagram(c60_eigs, 60)\n",
    "print(c60_diagram)"
   ]
  },
  {
   "cell_type": "code",
   "execution_count": 52,
   "metadata": {},
   "outputs": [
    {
     "name": "stdout",
     "output_type": "stream",
     "text": [
      "-33.16160379436806\n"
     ]
    }
   ],
   "source": [
    "c60_dE = delocEnergy(c60_diagram)\n",
    "print(c60_dE)"
   ]
  },
  {
   "cell_type": "code",
   "execution_count": 53,
   "metadata": {},
   "outputs": [
    {
     "name": "stdout",
     "output_type": "stream",
     "text": [
      "[1.02600854 0.99203825 1.01907917 0.98143184 0.96986995 0.9528421\n",
      " 1.04202069 1.03070356 1.00876963 0.98972153 0.98318841 0.95643175\n",
      " 1.08778739 1.08603358 1.0300085  1.00971514 0.99195975 0.97464514\n",
      " 0.97628884 1.00855544 1.02030099 1.03070356 0.96986995 1.04813875\n",
      " 0.97982784 0.96723806 0.96463195 1.01896824 1.04202069 1.00971514\n",
      " 1.08778739 0.9528421  0.96414861 0.96968645 0.97526726 0.97469265\n",
      " 1.0300085  1.04813875 1.02030099 1.08603358 1.02600854 0.95643175\n",
      " 0.98972153 1.01907917 0.96414861 0.98143184 0.99203825 0.97526726\n",
      " 0.97982784 0.97469265 0.96968645 0.96463195 0.99195975 1.01896824\n",
      " 0.96723806 0.97628884 1.00876963 1.00855544]\n"
     ]
    }
   ],
   "source": [
    "c60_cD = chargeDensity(c60_diagram, c60_eigs)\n",
    "print(c60_cD)"
   ]
  },
  {
   "cell_type": "code",
   "execution_count": 56,
   "metadata": {},
   "outputs": [
    {
     "data": {
      "text/plain": [
       "array([1.49709715, 1.62492564, 1.47349679, 1.57106999, 1.48240594,\n",
       "       1.49709715, 1.46959471, 1.4926603 , 1.62492564, 1.45977669,\n",
       "       1.48868638, 1.57106999, 1.61751597, 1.44697501, 1.45977669,\n",
       "       1.57821078, 1.45636612, 1.48240594, 1.49134469, 1.51627543,\n",
       "       1.57821078, 1.47012291, 1.61751597, 1.49134469, 1.45882537,\n",
       "       1.6285148 , 1.47683129, 1.55647244, 1.52375834, 1.45882537,\n",
       "       1.45959411, 1.46959471, 1.6285148 , 1.49231031, 1.47349679,\n",
       "       1.55647244, 1.66879333, 1.45636612, 1.49231031, 1.65998884,\n",
       "       1.43227772, 1.52375834, 1.41502897, 1.50624575, 1.65998884,\n",
       "       1.46484056, 1.66879333, 1.41502897, 1.46934816, 1.58678022,\n",
       "       1.4757386 , 1.57980811, 1.47012291, 1.46934816, 1.47352498,\n",
       "       1.45959411, 1.58678022, 1.50257847, 1.47683129, 1.57980811,\n",
       "       1.6359883 , 1.43227772, 1.50257847, 1.61751597, 1.49134469,\n",
       "       1.47012291, 1.44697501, 1.45977669, 1.61751597, 1.51350452,\n",
       "       1.6359883 , 1.44697501, 1.48581165, 1.58913466, 1.46495843,\n",
       "       1.5717209 , 1.46484056, 1.48581165, 1.45367804, 1.47352498,\n",
       "       1.58913466, 1.51627543, 1.4757386 , 1.5717209 , 1.57821078,\n",
       "       1.49134469, 1.51627543, 1.66879333, 1.41502897, 1.46484056,\n",
       "       1.45636612, 1.49231031, 1.66879333, 1.48240594, 1.57821078,\n",
       "       1.45636612, 1.44443303, 1.5910337 , 1.48868638, 1.57235283,\n",
       "       1.51350452, 1.44443303, 1.4926603 , 1.45367804, 1.5910337 ,\n",
       "       1.50624575, 1.46495843, 1.57235283, 1.65998884, 1.41502897,\n",
       "       1.50624575, 1.6359883 , 1.44697501, 1.51350452, 1.43227772,\n",
       "       1.50257847, 1.6359883 , 1.52375834, 1.65998884, 1.43227772,\n",
       "       1.47349679, 1.62492564, 1.49709715, 1.55647244, 1.49231031,\n",
       "       1.47349679, 1.45882537, 1.52375834, 1.55647244, 1.4926603 ,\n",
       "       1.46959471, 1.62492564, 1.48868638, 1.5910337 , 1.44443303,\n",
       "       1.57106999, 1.45977669, 1.48868638, 1.48240594, 1.49709715,\n",
       "       1.57106999, 1.45367804, 1.4926603 , 1.5910337 , 1.46495843,\n",
       "       1.58913466, 1.48581165, 1.57235283, 1.50624575, 1.46495843,\n",
       "       1.51350452, 1.44443303, 1.57235283, 1.47352498, 1.45367804,\n",
       "       1.58913466, 1.4757386 , 1.58678022, 1.46934816, 1.5717209 ,\n",
       "       1.51627543, 1.4757386 , 1.46484056, 1.48581165, 1.5717209 ,\n",
       "       1.45959411, 1.47352498, 1.58678022, 1.47683129, 1.6285148 ,\n",
       "       1.45882537, 1.57980811, 1.50257847, 1.47683129, 1.47012291,\n",
       "       1.46934816, 1.57980811, 1.46959471, 1.45959411, 1.6285148 ])"
      ]
     },
     "execution_count": 56,
     "metadata": {},
     "output_type": "execute_result"
    }
   ],
   "source": [
    "bonds = []\n",
    "for key in T.keys():\n",
    "    bonds.append(key)\n",
    "\n",
    "bondOrder(c60_diagram, c60_eigs, bonds)"
   ]
  }
 ],
 "metadata": {
  "kernelspec": {
   "display_name": "Python 3",
   "language": "python",
   "name": "python3"
  },
  "language_info": {
   "codemirror_mode": {
    "name": "ipython",
    "version": 3
   },
   "file_extension": ".py",
   "mimetype": "text/x-python",
   "name": "python",
   "nbconvert_exporter": "python",
   "pygments_lexer": "ipython3",
   "version": "3.7.1"
  },
  "varInspector": {
   "cols": {
    "lenName": 16,
    "lenType": 16,
    "lenVar": 40
   },
   "kernels_config": {
    "python": {
     "delete_cmd_postfix": "",
     "delete_cmd_prefix": "del ",
     "library": "var_list.py",
     "varRefreshCmd": "print(var_dic_list())"
    },
    "r": {
     "delete_cmd_postfix": ") ",
     "delete_cmd_prefix": "rm(",
     "library": "var_list.r",
     "varRefreshCmd": "cat(var_dic_list()) "
    }
   },
   "types_to_exclude": [
    "module",
    "function",
    "builtin_function_or_method",
    "instance",
    "_Feature"
   ],
   "window_display": false
  }
 },
 "nbformat": 4,
 "nbformat_minor": 1
}
